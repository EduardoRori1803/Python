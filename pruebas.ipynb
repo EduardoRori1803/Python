{
 "cells": [
  {
   "cell_type": "code",
   "execution_count": 2,
   "metadata": {},
   "outputs": [
    {
     "ename": "ModuleNotFoundError",
     "evalue": "No module named 'SentimentClassifier'",
     "output_type": "error",
     "traceback": [
      "\u001b[1;31m---------------------------------------------------------------------------\u001b[0m",
      "\u001b[1;31mModuleNotFoundError\u001b[0m                       Traceback (most recent call last)",
      "Cell \u001b[1;32mIn[2], line 3\u001b[0m\n\u001b[0;32m      1\u001b[0m \u001b[38;5;28;01mimport\u001b[39;00m \u001b[38;5;21;01mjoblib\u001b[39;00m\n\u001b[1;32m----> 3\u001b[0m \u001b[38;5;28;01mimport\u001b[39;00m \u001b[38;5;21;01mSentimentClassifier\u001b[39;00m\n\u001b[0;32m      5\u001b[0m clf\u001b[38;5;241m=\u001b[39mSentimentClassifier()\n\u001b[0;32m      7\u001b[0m x\u001b[38;5;241m=\u001b[39m\u001b[38;5;124m\"\u001b[39m\u001b[38;5;124mla pelicula fue excelente\u001b[39m\u001b[38;5;124m\"\u001b[39m\n",
      "\u001b[1;31mModuleNotFoundError\u001b[0m: No module named 'SentimentClassifier'"
     ]
    }
   ],
   "source": [
    "import joblib\n",
    "\n",
    "import SentimentClassifier\n",
    "\n",
    "clf=SentimentClassifier()\n",
    "\n",
    "x=\"la pelicula fue excelente\"\n",
    "\n",
    "y=\"fue mala la comida\"\n",
    "\n",
    "z=\"tuve una experiencia regular\"\n",
    "\n",
    "sentimiento=clf.predict(y)\n",
    "\n",
    "print(sentimiento)"
   ]
  }
 ],
 "metadata": {
  "kernelspec": {
   "display_name": "Python 3",
   "language": "python",
   "name": "python3"
  },
  "language_info": {
   "codemirror_mode": {
    "name": "ipython",
    "version": 3
   },
   "file_extension": ".py",
   "mimetype": "text/x-python",
   "name": "python",
   "nbconvert_exporter": "python",
   "pygments_lexer": "ipython3",
   "version": "3.10.11"
  }
 },
 "nbformat": 4,
 "nbformat_minor": 2
}
